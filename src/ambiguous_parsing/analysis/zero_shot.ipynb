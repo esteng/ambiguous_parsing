{
 "cells": [
  {
   "cell_type": "code",
   "execution_count": 18,
   "metadata": {},
   "outputs": [],
   "source": [
    "from matplotlib import pyplot as plt\n",
    "import seaborn as sns\n",
    "import numpy as np\n",
    "import pandas as pd\n",
    "from pathlib import Path\n",
    "\n",
    "\n",
    "import sys\n",
    "sys.path.insert(0, \"/home/estengel/ambiguous_parsing/src/\")\n",
    "from ambiguous_parsing.eval.eval import get_df"
   ]
  },
  {
   "cell_type": "code",
   "execution_count": 19,
   "metadata": {},
   "outputs": [],
   "source": [
    "CHECKPOINT_DIR= Path(\"/brtx/602-nvme1/estengel/ambiguous_parsing/logs/1.0/\") \n",
    "# fol\n",
    "fol_models_and_paths = [\n",
    "    (\"pp\", \"codegen-16B_lamp_no_context_all_pp_fol_0_test_eval_constrained_bs_5_np_full\"),\n",
    "    (\"scope\", \"codegen-16B_lamp_no_context_all_scope_fol_0_test_eval_constrained_bs_5_np_full\"),\n",
    "    (\"revscope\", \"codegen-16B_lamp_no_context_all_revscope_fol_0_test_eval_constrained_bs_5_np_full\"),\n",
    "    (\"bound\", \"codegen-16B_lamp_no_context_all_bound_fol_0_test_eval_constrained_bs_5_np_full\"),\n",
    "    (\"conj\", \"codegen-16B_lamp_no_context_all_conj_fol_0_test_eval_constrained_bs_5_np_full\")\n",
    "]"
   ]
  },
  {
   "cell_type": "code",
   "execution_count": 22,
   "metadata": {},
   "outputs": [
    {
     "name": "stdout",
     "output_type": "stream",
     "text": [
      "0 = 0.00 are missing a first output\n",
      "0 = 0.00 are missing a second output\n",
      "0 = 0.00 are missing a first output\n",
      "0 = 0.00 are missing a second output\n",
      "0 = 0.00 are missing a first output\n",
      "0 = 0.00 are missing a second output\n",
      "0 = 0.00 are missing a first output\n",
      "0 = 0.00 are missing a second output\n",
      "0 = 0.00 are missing a first output\n",
      "2 = 1.00 are missing a second output\n"
     ]
    }
   ],
   "source": [
    "big_df = []\n",
    "for amb_type, path in fol_models_and_paths:\n",
    "    fol_test_path = f\"/brtx/602-nvme1/estengel/ambiguous_parsing/data/raw/generalization/{amb_type}_fol/test.jsonl\"\n",
    "    fol_eval_path = f\"/brtx/602-nvme1/estengel/ambiguous_parsing/data/raw/generalization/{amb_type}_fol/test_eval.jsonl\"\n",
    "    pred_path = CHECKPOINT_DIR / path\n",
    "    try:\n",
    "        df = get_df(fol_test_path, fol_eval_path, pred_path, is_fol=True)\n",
    "        df['model'] = \"codegen-16B\"\n",
    "        df['amb_type'] =  amb_type\n",
    "        # df['model_order'] = model_order.index(model_name)\n",
    "        df['is_fol'] = True\n",
    "        big_df.append(df)\n",
    "    except (FileNotFoundError, IndexError) as e:\n",
    "        print(f\"Skipping {amb_type}\")\n",
    "        continue\n",
    "\n",
    "big_df = pd.concat(big_df)"
   ]
  },
  {
   "cell_type": "code",
   "execution_count": 23,
   "metadata": {},
   "outputs": [
    {
     "data": {
      "text/html": [
       "<div>\n",
       "<style scoped>\n",
       "    .dataframe tbody tr th:only-of-type {\n",
       "        vertical-align: middle;\n",
       "    }\n",
       "\n",
       "    .dataframe tbody tr th {\n",
       "        vertical-align: top;\n",
       "    }\n",
       "\n",
       "    .dataframe thead th {\n",
       "        text-align: right;\n",
       "    }\n",
       "</style>\n",
       "<table border=\"1\" class=\"dataframe\">\n",
       "  <thead>\n",
       "    <tr style=\"text-align: right;\">\n",
       "      <th></th>\n",
       "      <th>type</th>\n",
       "      <th>key</th>\n",
       "      <th>value</th>\n",
       "      <th>model</th>\n",
       "      <th>amb_type</th>\n",
       "      <th>is_fol</th>\n",
       "    </tr>\n",
       "  </thead>\n",
       "  <tbody>\n",
       "    <tr>\n",
       "      <th>0</th>\n",
       "      <td>pp</td>\n",
       "      <td>pred_top_1_matches_correct</td>\n",
       "      <td>60</td>\n",
       "      <td>codegen-16B</td>\n",
       "      <td>pp</td>\n",
       "      <td>True</td>\n",
       "    </tr>\n",
       "    <tr>\n",
       "      <th>1</th>\n",
       "      <td>pp</td>\n",
       "      <td>pred_top_2_matches_correct</td>\n",
       "      <td>23</td>\n",
       "      <td>codegen-16B</td>\n",
       "      <td>pp</td>\n",
       "      <td>True</td>\n",
       "    </tr>\n",
       "    <tr>\n",
       "      <th>2</th>\n",
       "      <td>pp</td>\n",
       "      <td>pred_top_1_matches_other</td>\n",
       "      <td>0</td>\n",
       "      <td>codegen-16B</td>\n",
       "      <td>pp</td>\n",
       "      <td>True</td>\n",
       "    </tr>\n",
       "    <tr>\n",
       "      <th>3</th>\n",
       "      <td>pp</td>\n",
       "      <td>pred_top_2_matches_other</td>\n",
       "      <td>0</td>\n",
       "      <td>codegen-16B</td>\n",
       "      <td>pp</td>\n",
       "      <td>True</td>\n",
       "    </tr>\n",
       "    <tr>\n",
       "      <th>4</th>\n",
       "      <td>pp</td>\n",
       "      <td>pred_top_1_matches_either</td>\n",
       "      <td>60</td>\n",
       "      <td>codegen-16B</td>\n",
       "      <td>pp</td>\n",
       "      <td>True</td>\n",
       "    </tr>\n",
       "  </tbody>\n",
       "</table>\n",
       "</div>"
      ],
      "text/plain": [
       "  type                         key  value        model amb_type  is_fol\n",
       "0   pp  pred_top_1_matches_correct     60  codegen-16B       pp    True\n",
       "1   pp  pred_top_2_matches_correct     23  codegen-16B       pp    True\n",
       "2   pp    pred_top_1_matches_other      0  codegen-16B       pp    True\n",
       "3   pp    pred_top_2_matches_other      0  codegen-16B       pp    True\n",
       "4   pp   pred_top_1_matches_either     60  codegen-16B       pp    True"
      ]
     },
     "execution_count": 23,
     "metadata": {},
     "output_type": "execute_result"
    }
   ],
   "source": [
    "big_df.head()"
   ]
  },
  {
   "cell_type": "code",
   "execution_count": 24,
   "metadata": {},
   "outputs": [
    {
     "data": {
      "image/png": "[encoded data removed]",
      "text/plain": [
       "<Figure size 1000x500 with 2 Axes>"
      ]
     },
     "metadata": {},
     "output_type": "display_data"
    }
   ],
   "source": [
    "fig, ax = plt.subplots(1, 2, figsize = (10, 5))\n",
    "\n",
    "lf1_df = big_df[big_df['key'] == \"pred_top_1_matches_correct\"]\n",
    "lf2_df = big_df[big_df['key'] == \"pred_top_1_matches_other\"]\n",
    "sns.barplot(data = lf1_df, x = \"amb_type\", y = \"value\", ax = ax[0])\n",
    "sns.barplot(data = lf2_df, x = \"amb_type\", y = \"value\", ax = ax[1])\n",
    "\n",
    "sns.despine()"
   ]
  },
  {
   "cell_type": "code",
   "execution_count": null,
   "metadata": {},
   "outputs": [],
   "source": []
  }
 ],
 "metadata": {
  "kernelspec": {
   "display_name": "ambi",
   "language": "python",
   "name": "python3"
  },
  "language_info": {
   "codemirror_mode": {
    "name": "ipython",
    "version": 3
   },
   "file_extension": ".py",
   "mimetype": "text/x-python",
   "name": "python",
   "nbconvert_exporter": "python",
   "pygments_lexer": "ipython3",
   "version": "3.9.15"
  },
  "orig_nbformat": 4
 },
 "nbformat": 4,
 "nbformat_minor": 2
}
