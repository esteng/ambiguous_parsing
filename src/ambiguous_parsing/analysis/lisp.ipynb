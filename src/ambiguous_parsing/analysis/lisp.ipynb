{
 "cells": [
  {
   "cell_type": "code",
   "execution_count": 4,
   "metadata": {},
   "outputs": [
    {
     "name": "stdout",
     "output_type": "stream",
     "text": [
      "0 = 0.00 are missing a first output\n",
      "0 = 0.00 are missing a second output\n",
      "0 = 0.00 are missing a first output\n",
      "0 = 0.00 are missing a second output\n"
     ]
    }
   ],
   "source": [
    "from pathlib import Path \n",
    "from ambiguous_parsing.eval.eval import get_df\n",
    "\n",
    "CHECKPOINT_DIR= Path(\"/brtx/602-nvme1/estengel/ambiguous_parsing/logs/1.0/\") \n",
    "\n",
    "\n",
    "lisp_pred_path = CHECKPOINT_DIR / \"/brtx/602-nvme1/estengel/ambiguous_parsing/logs/1.0/codegen-2B_lamp_no_context_all_scope_lisp_0_test_eval_constrained_bs_5_np_full/\"\n",
    "lisp_test_path = \"/brtx/602-nvme1/estengel/ambiguous_parsing/data/processed/scope_lisp/test.jsonl\"\n",
    "lisp_eval_path = \"/brtx/602-nvme1/estengel/ambiguous_parsing/data/processed/scope_lisp/test_eval.jsonl\"\n",
    "\n",
    "lisp_df = get_df(lisp_test_path, lisp_eval_path, lisp_pred_path, is_fol=False)\n",
    "\n",
    "fol_pred_path = CHECKPOINT_DIR / \"/brtx/602-nvme1/estengel/ambiguous_parsing/logs/1.0/codegen-2B_lamp_no_context_all_scope_fol_0_test_eval_constrained_bs_5_np_full/\"\n",
    "fol_test_path = \"/brtx/602-nvme1/estengel/ambiguous_parsing/data/processed/scope_fol/test.jsonl\"\n",
    "fol_eval_path = \"/brtx/602-nvme1/estengel/ambiguous_parsing/data/processed/scope_fol/test_eval.jsonl\"\n",
    "\n",
    "fol_df = get_df(fol_test_path, fol_eval_path, fol_pred_path, is_fol=True)\n",
    "\n",
    "\n"
   ]
  },
  {
   "cell_type": "code",
   "execution_count": 5,
   "metadata": {},
   "outputs": [
    {
     "name": "stdout",
     "output_type": "stream",
     "text": [
      "     type                        key  value\n",
      "0   scope    pred_top_1_matches_lf_0    0.0\n",
      "1   scope    pred_top_2_matches_lf_0    0.0\n",
      "2   scope    pred_top_1_matches_lf_1   11.0\n",
      "3   scope    pred_top_2_matches_lf_1   13.0\n",
      "4   scope  pred_top_1_matches_either   11.0\n",
      "5   scope              lf_0_in_top_2    0.0\n",
      "6   scope              lf_1_in_top_2   24.0\n",
      "7   scope              lf_0_in_top_3    0.0\n",
      "8   scope              lf_1_in_top_3   31.0\n",
      "9   scope              lf_0_in_top_4    0.0\n",
      "10  scope              lf_1_in_top_4   42.5\n",
      "11  scope                      total  200.0\n"
     ]
    }
   ],
   "source": [
    "# print(lisp_df[lisp_df['key'] == \"pred_top_1_matches_either\"])\n",
    "print(lisp_df)"
   ]
  },
  {
   "cell_type": "code",
   "execution_count": 6,
   "metadata": {},
   "outputs": [
    {
     "name": "stdout",
     "output_type": "stream",
     "text": [
      "     type                        key  value\n",
      "0   scope    pred_top_1_matches_lf_0    0.0\n",
      "1   scope    pred_top_2_matches_lf_0    0.0\n",
      "2   scope    pred_top_1_matches_lf_1   18.0\n",
      "3   scope    pred_top_2_matches_lf_1   37.0\n",
      "4   scope  pred_top_1_matches_either   18.0\n",
      "5   scope              lf_0_in_top_2    0.0\n",
      "6   scope              lf_1_in_top_2   55.0\n",
      "7   scope              lf_0_in_top_3    0.0\n",
      "8   scope              lf_1_in_top_3   73.0\n",
      "9   scope              lf_0_in_top_4    0.0\n",
      "10  scope              lf_1_in_top_4   75.0\n",
      "11  scope                      total  200.0\n"
     ]
    }
   ],
   "source": [
    "print(fol_df)"
   ]
  },
  {
   "cell_type": "code",
   "execution_count": null,
   "metadata": {},
   "outputs": [],
   "source": []
  }
 ],
 "metadata": {
  "kernelspec": {
   "display_name": "ambi",
   "language": "python",
   "name": "python3"
  },
  "language_info": {
   "codemirror_mode": {
    "name": "ipython",
    "version": 3
   },
   "file_extension": ".py",
   "mimetype": "text/x-python",
   "name": "python",
   "nbconvert_exporter": "python",
   "pygments_lexer": "ipython3",
   "version": "3.9.15"
  },
  "orig_nbformat": 4
 },
 "nbformat": 4,
 "nbformat_minor": 2
}
