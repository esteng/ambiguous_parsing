{
 "cells": [
  {
   "cell_type": "code",
   "execution_count": 1,
   "metadata": {},
   "outputs": [],
   "source": [
    "import json\n",
    "import numpy as np \n",
    "from collections import defaultdict "
   ]
  },
  {
   "cell_type": "code",
   "execution_count": 2,
   "metadata": {},
   "outputs": [],
   "source": [
    "def read_file(path):\n",
    "    data_by_src = defaultdict(list)\n",
    "    with open(path, \"r\") as f1:\n",
    "        for line in f1:\n",
    "            line = json.loads(line)\n",
    "            # trim off last token (EOS)\n",
    "            line['logit_at_label'] = np.array(line['logit_at_label'][0:-1])\n",
    "            data_by_src[line['natural']].append(line)\n",
    "\n",
    "    # for src, list_ in data_by_src.items():\n",
    "        # assert(len(list_) == 2)\n",
    "\n",
    "    return data_by_src\n"
   ]
  },
  {
   "cell_type": "code",
   "execution_count": 3,
   "metadata": {},
   "outputs": [
    {
     "name": "stdout",
     "output_type": "stream",
     "text": [
      "reading /brtx/602-nvme1/estengel/ambiguous_parsing/model_outputs/codegen-350M/pp_fol/outputs/test_eval.logits\n",
      "reading /brtx/602-nvme1/estengel/ambiguous_parsing/model_outputs/codegen-350M/scope_fol/outputs/test_eval.logits\n",
      "reading /brtx/602-nvme1/estengel/ambiguous_parsing/model_outputs/codegen-350M/revscope_fol/outputs/test_eval.logits\n",
      "reading /brtx/602-nvme1/estengel/ambiguous_parsing/model_outputs/codegen-350M/bound_fol/outputs/test_eval.logits\n",
      "reading /brtx/602-nvme1/estengel/ambiguous_parsing/model_outputs/codegen-350M/conj_fol/outputs/test_eval.logits\n",
      "reading /brtx/602-nvme1/estengel/ambiguous_parsing/model_outputs/codegen-2B/pp_fol/outputs/test_eval.logits\n",
      "reading /brtx/602-nvme1/estengel/ambiguous_parsing/model_outputs/codegen-2B/scope_fol/outputs/test_eval.logits\n",
      "reading /brtx/602-nvme1/estengel/ambiguous_parsing/model_outputs/codegen-2B/revscope_fol/outputs/test_eval.logits\n",
      "reading /brtx/602-nvme1/estengel/ambiguous_parsing/model_outputs/codegen-2B/bound_fol/outputs/test_eval.logits\n",
      "reading /brtx/602-nvme1/estengel/ambiguous_parsing/model_outputs/codegen-2B/conj_fol/outputs/test_eval.logits\n",
      "reading /brtx/602-nvme1/estengel/ambiguous_parsing/model_outputs/codegen-6B/pp_fol/outputs/test_eval.logits\n",
      "reading /brtx/602-nvme1/estengel/ambiguous_parsing/model_outputs/codegen-6B/scope_fol/outputs/test_eval.logits\n",
      "reading /brtx/602-nvme1/estengel/ambiguous_parsing/model_outputs/codegen-6B/revscope_fol/outputs/test_eval.logits\n",
      "reading /brtx/602-nvme1/estengel/ambiguous_parsing/model_outputs/codegen-6B/bound_fol/outputs/test_eval.logits\n",
      "reading /brtx/602-nvme1/estengel/ambiguous_parsing/model_outputs/codegen-6B/conj_fol/outputs/test_eval.logits\n",
      "reading /brtx/602-nvme1/estengel/ambiguous_parsing/model_outputs/codegen-16B/pp_fol/outputs/test_eval.logits\n",
      "reading /brtx/602-nvme1/estengel/ambiguous_parsing/model_outputs/codegen-16B/scope_fol/outputs/test_eval.logits\n",
      "reading /brtx/602-nvme1/estengel/ambiguous_parsing/model_outputs/codegen-16B/revscope_fol/outputs/test_eval.logits\n",
      "reading /brtx/602-nvme1/estengel/ambiguous_parsing/model_outputs/codegen-16B/bound_fol/outputs/test_eval.logits\n",
      "reading /brtx/602-nvme1/estengel/ambiguous_parsing/model_outputs/codegen-16B/conj_fol/outputs/test_eval.logits\n"
     ]
    }
   ],
   "source": [
    "data_for_df = []\n",
    "\n",
    "for model in [\"codegen-350M\", \"codegen-2B\", \"codegen-6B\", \"codegen-16B\"]:\n",
    "    for t in ['pp', 'scope', 'revscope', 'bound', 'conj']:\n",
    "        \n",
    "        path = f\"/brtx/602-nvme1/estengel/ambiguous_parsing/model_outputs/{model}/{t}_fol/outputs/test_eval.logits\"\n",
    "        print(f\"reading {path}\")\n",
    "        try:\n",
    "            data_by_src = read_file(path)\n",
    "        except FileNotFoundError:\n",
    "            print(f\"file not found: {path}\")\n",
    "            continue\n",
    "\n",
    "        for src, lines in data_by_src.items():\n",
    "            p_lf0, p_lf1 = None, None\n",
    "            min_lf0, min_lf1 = None, None\n",
    "            for line in lines:\n",
    "                template_idx = str(line['template_idx'])\n",
    "                total_prob = np.exp(np.sum(np.log(line['logit_at_label'])))\n",
    "\n",
    "                min_logit_at_label = np.min(line['logit_at_label']) \n",
    "                if template_idx == '0':\n",
    "                    min_lf0 = min_logit_at_label\n",
    "                    p_lf0 = total_prob\n",
    "                else:\n",
    "                    min_lf1 = min_logit_at_label\n",
    "                    p_lf1 = total_prob\n",
    "\n",
    "            # turn into a proper probability by normalizing \n",
    "            norm_min_p_lf0 = min_lf0 / (min_lf0 + min_lf1)\n",
    "            norm_total_p_lf0 = p_lf0 / (p_lf0 + p_lf1)\n",
    "\n",
    "            data_for_df.append({\"model\": model, \"amb_type\": t,  \"type\": \"norm_min_lf0\", \"value\": norm_min_p_lf0}) \n",
    "            data_for_df.append({\"model\": model, \"amb_type\": t,  \"type\": \"norm_total_lf0\", \"value\": norm_total_p_lf0}) \n"
   ]
  },
  {
   "cell_type": "code",
   "execution_count": 4,
   "metadata": {},
   "outputs": [
    {
     "data": {
      "image/png": "[encoded data removed]",
      "text/plain": [
       "<Figure size 800x200 with 4 Axes>"
      ]
     },
     "metadata": {},
     "output_type": "display_data"
    }
   ],
   "source": [
    "import seaborn as sns\n",
    "from matplotlib import pyplot as plt \n",
    "import pandas as pd\n",
    "\n",
    "df = pd.DataFrame(data_for_df)\n",
    "\n",
    "prob_df = df[df['type'] == \"norm_total_lf0\"]\n",
    "\n",
    "fig, ax = plt.subplots(1, 4, figsize=(8,2), sharex=True, sharey=True)\n",
    "\n",
    "for midx, model in enumerate([\"codegen-350M\", \"codegen-2B\", \"codegen-6B\", \"codegen-16B\"]):\n",
    "    ax[midx].set_title(model)\n",
    "    model_df = df[df['model'] == model]  \n",
    "    sns.barplot(data = model_df, x = \"amb_type\", y = \"value\", ax=ax[midx])\n",
    "    # rotate xticks 45 degrees\n",
    "    for item in ax[midx].get_xticklabels():\n",
    "        item.set_rotation(45)\n",
    "\n",
    "sns.despine()\n"
   ]
  },
  {
   "cell_type": "code",
   "execution_count": 7,
   "metadata": {},
   "outputs": [
    {
     "data": {
      "text/plain": [
       "array([0.56487673, 0.99919729, 0.98572448, 0.94531169, 0.71446648,\n",
       "       0.87121185, 0.99614787, 0.91052998, 0.99388688, 0.99529606,\n",
       "       0.80777776, 0.99971648, 0.99861005, 0.999393  , 0.9693878 ,\n",
       "       0.66453262, 0.99987866, 0.99541357, 0.99958687, 0.99441353,\n",
       "       0.98799894, 0.99988831, 0.99890352, 0.99201467, 0.98092263,\n",
       "       0.98070347, 0.9998124 , 0.99735876, 0.99872918, 0.99586416,\n",
       "       0.99895396, 0.99385308, 0.99905711, 0.99987079, 0.99986901,\n",
       "       0.99955936, 0.99917492, 0.99870611])"
      ]
     },
     "execution_count": 7,
     "metadata": {},
     "output_type": "execute_result"
    }
   ],
   "source": []
  },
  {
   "cell_type": "code",
   "execution_count": null,
   "metadata": {},
   "outputs": [],
   "source": []
  }
 ],
 "metadata": {
  "kernelspec": {
   "display_name": "ambi",
   "language": "python",
   "name": "python3"
  },
  "language_info": {
   "codemirror_mode": {
    "name": "ipython",
    "version": 3
   },
   "file_extension": ".py",
   "mimetype": "text/x-python",
   "name": "python",
   "nbconvert_exporter": "python",
   "pygments_lexer": "ipython3",
   "version": "3.9.15"
  },
  "orig_nbformat": 4
 },
 "nbformat": 4,
 "nbformat_minor": 2
}
