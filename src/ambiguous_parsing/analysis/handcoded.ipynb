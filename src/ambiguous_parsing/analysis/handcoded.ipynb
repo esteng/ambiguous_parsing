{
 "cells": [
  {
   "cell_type": "code",
   "execution_count": 1,
   "metadata": {},
   "outputs": [],
   "source": [
    "import json \n",
    "import pathlib\n",
    "\n",
    "data_by_type = {}\n",
    "for _type in ['conj', 'pp', 'scope', 'revscope', 'bound']:\n",
    "    path = f\"/brtx/602-nvme1/estengel/ambiguous_parsing/logs/1.0/gpt-3.5-turbo_lamp_no_context_all_{_type}_fol_0_test_eval_unconstrained-api_bs_5_np_full/amb_data.jsonl\"\n",
    "\n",
    "    with open(path) as f1:\n",
    "        data = [json.loads(l) for l in f1]\n",
    "    data_by_type[_type] = data\n",
    "    \n",
    "\n",
    "\n",
    "\n"
   ]
  },
  {
   "cell_type": "code",
   "execution_count": 15,
   "metadata": {},
   "outputs": [],
   "source": [
    "\n",
    "df_data = []\n",
    "\n",
    "keys = ['amb_type', 'identified', 'pred. 1 LF', 'pred. both LFs', 'pred. both LFs (soft)']\n",
    "\n",
    "for _type, data in data_by_type.items():\n",
    "    count_id = 0\n",
    "    count_pred_1 = 0\n",
    "    count_pred_both = 0\n",
    "    count_messy = 0 \n",
    "\n",
    "    for d in data:\n",
    "        # print(d['chat_predicted_lf'])\n",
    "        if d['identified_ambiguous']:\n",
    "            count_id += 1\n",
    "        if str(d['chat_predicted_lf']) in ['0', '1']:\n",
    "            count_pred_1 += 1\n",
    "        if d['chat_predicted_lf'] == \"b\":\n",
    "            count_pred_both += 1\n",
    "        if d['chat_predicted_messy'] == \"b\":\n",
    "            count_messy += 1\n",
    "    df_data.append({\"amb_type\": _type, \"identified\": count_id, \"pred. 1 LF\": count_pred_1, \"pred. both LFs\": count_pred_both, \"pred. both LFs (soft)\": count_messy})\n",
    "\n",
    "\n",
    "\n"
   ]
  },
  {
   "cell_type": "code",
   "execution_count": 20,
   "metadata": {},
   "outputs": [
    {
     "name": "stdout",
     "output_type": "stream",
     "text": [
      "\\begin{tabular}{lrrrr}\n",
      "\\toprule\n",
      "amb_type & identified & pred. 1 LF & pred. both LFs & pred. both LFs (soft) \\\\\n",
      "\\midrule\n",
      "conj & 11.0 & 1.5 & 3.0 & 6.5 \\\\\n",
      "pp & 0.5 & 0.5 & 0.0 & 0.0 \\\\\n",
      "scope & 2.0 & 0.0 & 0.0 & 0.0 \\\\\n",
      "revscope & 5.0 & 0.0 & 0.0 & 4.0 \\\\\n",
      "bound & 0.0 & 0.0 & 0.0 & 0.0 \\\\\n",
      "\\bottomrule\n",
      "\\end{tabular}\n",
      "\n"
     ]
    }
   ],
   "source": [
    "import pandas as pd\n",
    "\n",
    "df = pd.DataFrame(df_data)\n",
    "df['identified'] = df['identified'] / 200 * 100\n",
    "df['pred. 1 LF'] = df['pred. 1 LF'] / 200 * 100\n",
    "df['pred. both LFs'] = df['pred. both LFs'] / 200 * 100\n",
    "df['pred. both LFs (soft)'] = df['pred. both LFs (soft)'] / 200 * 100\n",
    "\n",
    "print(df.to_latex(index=False, float_format=\"%.1f\"))"
   ]
  },
  {
   "cell_type": "code",
   "execution_count": null,
   "metadata": {},
   "outputs": [],
   "source": []
  }
 ],
 "metadata": {
  "kernelspec": {
   "display_name": "ambi",
   "language": "python",
   "name": "python3"
  },
  "language_info": {
   "codemirror_mode": {
    "name": "ipython",
    "version": 3
   },
   "file_extension": ".py",
   "mimetype": "text/x-python",
   "name": "python",
   "nbconvert_exporter": "python",
   "pygments_lexer": "ipython3",
   "version": "3.9.15"
  },
  "orig_nbformat": 4
 },
 "nbformat": 4,
 "nbformat_minor": 2
}
