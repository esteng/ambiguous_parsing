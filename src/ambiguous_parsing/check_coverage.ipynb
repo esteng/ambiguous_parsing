{
 "cells": [
  {
   "cell_type": "code",
   "execution_count": 1,
   "metadata": {},
   "outputs": [],
   "source": [
    "from tqdm import tqdm \n",
    "import sys\n",
    "sys.path.insert(0, \"/home/estengel/ambiguous_parsing/src/\")\n",
    "from ambiguous_parsing.generation.generate_pairs import generate_pp_pairs, generate_conjunction_pairs, generate_scope_pairs, generate_unambiguous\n",
    "from lark import Lark"
   ]
  },
  {
   "cell_type": "code",
   "execution_count": 3,
   "metadata": {},
   "outputs": [],
   "source": [
    "\n",
    "# dfa_grammar = load_grammar_from_directory(\"grammar/cfgs/\")\n",
    "with open(\"grammar/cfgs/lark/lark.cfg\") as f:\n",
    "    grammar = Lark(f, start=\"sent\")\n"
   ]
  },
  {
   "attachments": {},
   "cell_type": "markdown",
   "metadata": {},
   "source": [
    "# Checking coverage"
   ]
  },
  {
   "attachments": {},
   "cell_type": "markdown",
   "metadata": {},
   "source": [
    "## PP coverage"
   ]
  },
  {
   "cell_type": "code",
   "execution_count": 3,
   "metadata": {},
   "outputs": [],
   "source": [
    "pp_pairs = generate_pp_pairs()\n",
    "for p in tqdm(pp_pairs):\n",
    "    grammar.parse(p['lf'])"
   ]
  },
  {
   "attachments": {},
   "cell_type": "markdown",
   "metadata": {},
   "source": [
    "## Conjunction and disjunction coverage"
   ]
  },
  {
   "cell_type": "code",
   "execution_count": 3,
   "metadata": {},
   "outputs": [
    {
     "name": "stderr",
     "output_type": "stream",
     "text": [
      "100%|██████████| 52416/52416 [12:14<00:00, 71.34it/s]\n"
     ]
    }
   ],
   "source": [
    "conj_pairs = generate_conjunction_pairs()\n",
    "for p in tqdm(conj_pairs):\n",
    "    grammar.parse(p['lf'])"
   ]
  },
  {
   "attachments": {},
   "cell_type": "markdown",
   "metadata": {},
   "source": [
    "## Scope coverage"
   ]
  },
  {
   "cell_type": "code",
   "execution_count": 4,
   "metadata": {},
   "outputs": [
    {
     "name": "stderr",
     "output_type": "stream",
     "text": [
      "100%|██████████| 22000/22000 [03:46<00:00, 97.05it/s] \n"
     ]
    }
   ],
   "source": [
    "scope_pairs = generate_scope_pairs()\n",
    "for p in tqdm(scope_pairs):\n",
    "    grammar.parse(p['lf'])"
   ]
  },
  {
   "attachments": {},
   "cell_type": "markdown",
   "metadata": {},
   "source": [
    "## Unambiguous coverage"
   ]
  },
  {
   "cell_type": "code",
   "execution_count": 4,
   "metadata": {},
   "outputs": [
    {
     "name": "stderr",
     "output_type": "stream",
     "text": [
      "100%|██████████| 11305/11305 [01:30<00:00, 124.57it/s]\n"
     ]
    }
   ],
   "source": [
    "pairs = generate_unambiguous()\n",
    "for p in tqdm(pairs):\n",
    "    grammar.parse(p['lf'])"
   ]
  },
  {
   "cell_type": "code",
   "execution_count": 6,
   "metadata": {},
   "outputs": [
    {
     "name": "stdout",
     "output_type": "stream",
     "text": [
      "{'surface': 'bird ate', 'lf': 'exists a . ate(a) AND agent(a, bird)', 'unfilled_template': 'exists a . {vp1}(a) AND agent(a, {np1})', 'template_tags': ['np1', 'vp1'], 'var_bindings': {'np1': 'bird', 'vp1': 'ate'}}\n"
     ]
    }
   ],
   "source": [
    "print(p)"
   ]
  },
  {
   "cell_type": "code",
   "execution_count": null,
   "metadata": {},
   "outputs": [],
   "source": []
  }
 ],
 "metadata": {
  "kernelspec": {
   "display_name": "ambi",
   "language": "python",
   "name": "python3"
  },
  "language_info": {
   "codemirror_mode": {
    "name": "ipython",
    "version": 3
   },
   "file_extension": ".py",
   "mimetype": "text/x-python",
   "name": "python",
   "nbconvert_exporter": "python",
   "pygments_lexer": "ipython3",
   "version": "3.9.15"
  },
  "orig_nbformat": 4,
  "vscode": {
   "interpreter": {
    "hash": "9ca09cf59191460ee3bc788e2eb7d0f3a3b22241a3b9f406b7d528e4252f3f25"
   }
  }
 },
 "nbformat": 4,
 "nbformat_minor": 2
}
